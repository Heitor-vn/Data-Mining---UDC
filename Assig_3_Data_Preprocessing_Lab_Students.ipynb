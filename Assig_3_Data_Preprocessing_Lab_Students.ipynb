{
  "cells": [
    {
      "cell_type": "markdown",
      "id": "c30d8759",
      "metadata": {
        "id": "c30d8759"
      },
      "source": [
        "# Data Preprocessing Lab\n",
        "by Wilmer Garzón, last updated: 26-June-2025\n",
        "\n",
        "In this lab, you will work on preprocessing the Titanic dataset. Follow the instructions and complete the tasks."
      ]
    },
    {
      "cell_type": "markdown",
      "id": "ff62ed16",
      "metadata": {
        "id": "ff62ed16"
      },
      "source": [
        "## 1. Load the Data\n",
        "\n",
        "Load the Titanic dataset into a pandas DataFrame."
      ]
    },
    {
      "cell_type": "code",
      "execution_count": null,
      "id": "2eee31fc",
      "metadata": {
        "id": "2eee31fc",
        "outputId": "ad4b8a4a-3223-44bc-f7ee-2f96ca734139",
        "colab": {
          "base_uri": "https://localhost:8080/"
        }
      },
      "outputs": [
        {
          "output_type": "stream",
          "name": "stdout",
          "text": [
            "<class 'pandas.core.frame.DataFrame'>\n",
            "RangeIndex: 891 entries, 0 to 890\n",
            "Data columns (total 12 columns):\n",
            " #   Column       Non-Null Count  Dtype  \n",
            "---  ------       --------------  -----  \n",
            " 0   PassengerId  891 non-null    int64  \n",
            " 1   Survived     891 non-null    int64  \n",
            " 2   Pclass       891 non-null    int64  \n",
            " 3   Name         891 non-null    object \n",
            " 4   Sex          891 non-null    object \n",
            " 5   Age          714 non-null    float64\n",
            " 6   SibSp        891 non-null    int64  \n",
            " 7   Parch        891 non-null    int64  \n",
            " 8   Ticket       891 non-null    object \n",
            " 9   Fare         891 non-null    float64\n",
            " 10  Cabin        204 non-null    object \n",
            " 11  Embarked     889 non-null    object \n",
            "dtypes: float64(2), int64(5), object(5)\n",
            "memory usage: 83.7+ KB\n"
          ]
        }
      ],
      "source": [
        "import pandas as pd\n",
        "\n",
        "# Load the dataset\n",
        "url = 'https://raw.githubusercontent.com/datasciencedojo/datasets/master/titanic.csv'\n",
        "data = pd.read_csv(url)\n",
        "\n",
        "data.info()"
      ]
    },
    {
      "cell_type": "markdown",
      "id": "13f23c2c",
      "metadata": {
        "id": "13f23c2c"
      },
      "source": [
        "## 2. Data Cleaning\n",
        "\n",
        "### a. Handle Missing Values\n",
        "- Identify and handle missing values in the dataset.\n",
        "- Filla some NaN values by: mean and mode"
      ]
    },
    {
      "cell_type": "code",
      "execution_count": null,
      "id": "20c82d83",
      "metadata": {
        "id": "20c82d83",
        "colab": {
          "base_uri": "https://localhost:8080/"
        },
        "outputId": "29a3789f-90d1-4060-fdae-62548f55575a"
      },
      "outputs": [
        {
          "output_type": "stream",
          "name": "stdout",
          "text": [
            "PassengerId      0\n",
            "Survived         0\n",
            "Pclass           0\n",
            "Name             0\n",
            "Sex              0\n",
            "Age            177\n",
            "SibSp            0\n",
            "Parch            0\n",
            "Ticket           0\n",
            "Fare             0\n",
            "Cabin          687\n",
            "Embarked         2\n",
            "dtype: int64\n",
            "Mean age: 29.69911764705882\n",
            "Mean age after replace: 29.69911764705882\n",
            "[nan 'C85' 'C123' 'E46' 'G6' 'C103' 'D56' 'A6' 'C23 C25 C27' 'B78' 'D33'\n",
            " 'B30' 'C52' 'B28' 'C83' 'F33' 'F G73' 'E31' 'A5' 'D10 D12' 'D26' 'C110'\n",
            " 'B58 B60' 'E101' 'F E69' 'D47' 'B86' 'F2' 'C2' 'E33' 'B19' 'A7' 'C49'\n",
            " 'F4' 'A32' 'B4' 'B80' 'A31' 'D36' 'D15' 'C93' 'C78' 'D35' 'C87' 'B77'\n",
            " 'E67' 'B94' 'C125' 'C99' 'C118' 'D7' 'A19' 'B49' 'D' 'C22 C26' 'C106'\n",
            " 'C65' 'E36' 'C54' 'B57 B59 B63 B66' 'C7' 'E34' 'C32' 'B18' 'C124' 'C91'\n",
            " 'E40' 'T' 'C128' 'D37' 'B35' 'E50' 'C82' 'B96 B98' 'E10' 'E44' 'A34'\n",
            " 'C104' 'C111' 'C92' 'E38' 'D21' 'E12' 'E63' 'A14' 'B37' 'C30' 'D20' 'B79'\n",
            " 'E25' 'D46' 'B73' 'C95' 'B38' 'B39' 'B22' 'C86' 'C70' 'A16' 'C101' 'C68'\n",
            " 'A10' 'E68' 'B41' 'A20' 'D19' 'D50' 'D9' 'A23' 'B50' 'A26' 'D48' 'E58'\n",
            " 'C126' 'B71' 'B51 B53 B55' 'D49' 'B5' 'B20' 'F G63' 'C62 C64' 'E24' 'C90'\n",
            " 'C45' 'E8' 'B101' 'D45' 'C46' 'D30' 'E121' 'D11' 'E77' 'F38' 'B3' 'D6'\n",
            " 'B82 B84' 'D17' 'A36' 'B102' 'B69' 'E49' 'C47' 'D28' 'E17' 'A24' 'C50'\n",
            " 'B42' 'C148']\n"
          ]
        },
        {
          "output_type": "stream",
          "name": "stderr",
          "text": [
            "/tmp/ipython-input-2-2662652552.py:11: FutureWarning: A value is trying to be set on a copy of a DataFrame or Series through chained assignment using an inplace method.\n",
            "The behavior will change in pandas 3.0. This inplace method will never work because the intermediate object on which we are setting values always behaves as a copy.\n",
            "\n",
            "For example, when doing 'df[col].method(value, inplace=True)', try using 'df.method({col: value}, inplace=True)' or df[col] = df[col].method(value) instead, to perform the operation inplace on the original object.\n",
            "\n",
            "\n",
            "  data['Embarked'].fillna(mode_embarked, inplace=True)\n",
            "/tmp/ipython-input-2-2662652552.py:21: FutureWarning: A value is trying to be set on a copy of a DataFrame or Series through chained assignment using an inplace method.\n",
            "The behavior will change in pandas 3.0. This inplace method will never work because the intermediate object on which we are setting values always behaves as a copy.\n",
            "\n",
            "For example, when doing 'df[col].method(value, inplace=True)', try using 'df.method({col: value}, inplace=True)' or df[col] = df[col].method(value) instead, to perform the operation inplace on the original object.\n",
            "\n",
            "\n",
            "  data['Age'].fillna(mean_age, inplace=True)\n"
          ]
        }
      ],
      "source": [
        "from sklearn.impute import SimpleImputer\n",
        "from sklearn.impute import KNNImputer\n",
        "\n",
        "# Check for missing values\n",
        "# Check the condition of the missing values\n",
        "missing_values = data.isnull().sum()\n",
        "print(missing_values)\n",
        "\n",
        "# Embarked we will fill the missing values with mode of the same column\n",
        "mode_embarked = data['Embarked'].mode()[0]\n",
        "data['Embarked'].fillna(mode_embarked, inplace=True)\n",
        "\n",
        "# Age, lets check what number will be the average before and after if the missing values was adjusted byy the mean too\n",
        "mean_age = data['Age'].mean()\n",
        "print(f\"Mean age: {mean_age}\")\n",
        "mean_age_replace_2 = data['Age'].fillna(mean_age).mean()\n",
        "print(f\"Mean age after replace: {mean_age_replace_2}\")\n",
        "\n",
        "# After seeing that dont change nothing using the mean in the age, so lets replace the missing values in age for the respective mean\n",
        "mean_age = data['Age'].mean()\n",
        "data['Age'].fillna(mean_age, inplace=True)\n",
        "\n",
        "# Now lets see how much information it have inside of the columns cabin. Show the existing values inside cabin\n",
        "cabin = data['Cabin']\n",
        "print(cabin.unique())\n",
        "# For 981 values possibles Cabin misses 67, its a lot, lets try replace using KNN, trying tho use others parameters as reference too\n",
        "# data['Has_Cabin'] = data['Cabin'].notnull().astype(int)\n",
        "# impute_cols = ['Age', 'Fare', 'Pclass', 'SibSp', 'Parch', 'Has_Cabin']\n",
        "\n",
        "# imputer = KNNImputer(n_neighbors=10)\n",
        "\n",
        "# data_impute = data[impute_cols]\n",
        "\n",
        "# data_imputed = imputer.fit_transform(data_impute)\n",
        "\n",
        "# # Replace the original data\n",
        "# for i, col in enumerate(impute_cols):\n",
        "#     data[col] = data_imputed[:, i]"
      ]
    },
    {
      "cell_type": "code",
      "source": [
        "# check missing values after imputation\n",
        "missing_values = data.isnull().sum()\n",
        "print(missing_values)"
      ],
      "metadata": {
        "colab": {
          "base_uri": "https://localhost:8080/"
        },
        "id": "_F37BatbENZt",
        "outputId": "ebdf2528-4ee3-4491-90eb-8d9bd44fadd5"
      },
      "id": "_F37BatbENZt",
      "execution_count": null,
      "outputs": [
        {
          "output_type": "stream",
          "name": "stdout",
          "text": [
            "PassengerId      0\n",
            "Survived         0\n",
            "Pclass           0\n",
            "Name             0\n",
            "Sex              0\n",
            "Age              0\n",
            "SibSp            0\n",
            "Parch            0\n",
            "Ticket           0\n",
            "Fare             0\n",
            "Cabin          687\n",
            "Embarked         0\n",
            "Has_Cabin        0\n",
            "dtype: int64\n"
          ]
        }
      ]
    },
    {
      "cell_type": "code",
      "source": [
        "# Decide to delete the column cabin\n",
        "data_without_cabin = data.drop('Cabin', axis=1)\n",
        "data_without_cabin.info()\n",
        "\n",
        "data_without_cabin.isnull().sum()"
      ],
      "metadata": {
        "colab": {
          "base_uri": "https://localhost:8080/",
          "height": 790
        },
        "id": "ErT7N_qjErCf",
        "outputId": "cd94fe85-61df-4568-97bf-b7915d42edd5"
      },
      "id": "ErT7N_qjErCf",
      "execution_count": null,
      "outputs": [
        {
          "output_type": "stream",
          "name": "stdout",
          "text": [
            "<class 'pandas.core.frame.DataFrame'>\n",
            "RangeIndex: 891 entries, 0 to 890\n",
            "Data columns (total 12 columns):\n",
            " #   Column       Non-Null Count  Dtype  \n",
            "---  ------       --------------  -----  \n",
            " 0   PassengerId  891 non-null    int64  \n",
            " 1   Survived     891 non-null    int64  \n",
            " 2   Pclass       891 non-null    float64\n",
            " 3   Name         891 non-null    object \n",
            " 4   Sex          891 non-null    object \n",
            " 5   Age          891 non-null    float64\n",
            " 6   SibSp        891 non-null    float64\n",
            " 7   Parch        891 non-null    float64\n",
            " 8   Ticket       891 non-null    object \n",
            " 9   Fare         891 non-null    float64\n",
            " 10  Embarked     891 non-null    object \n",
            " 11  Has_Cabin    891 non-null    float64\n",
            "dtypes: float64(6), int64(2), object(4)\n",
            "memory usage: 83.7+ KB\n"
          ]
        },
        {
          "output_type": "execute_result",
          "data": {
            "text/plain": [
              "PassengerId    0\n",
              "Survived       0\n",
              "Pclass         0\n",
              "Name           0\n",
              "Sex            0\n",
              "Age            0\n",
              "SibSp          0\n",
              "Parch          0\n",
              "Ticket         0\n",
              "Fare           0\n",
              "Embarked       0\n",
              "Has_Cabin      0\n",
              "dtype: int64"
            ],
            "text/html": [
              "<div>\n",
              "<style scoped>\n",
              "    .dataframe tbody tr th:only-of-type {\n",
              "        vertical-align: middle;\n",
              "    }\n",
              "\n",
              "    .dataframe tbody tr th {\n",
              "        vertical-align: top;\n",
              "    }\n",
              "\n",
              "    .dataframe thead th {\n",
              "        text-align: right;\n",
              "    }\n",
              "</style>\n",
              "<table border=\"1\" class=\"dataframe\">\n",
              "  <thead>\n",
              "    <tr style=\"text-align: right;\">\n",
              "      <th></th>\n",
              "      <th>0</th>\n",
              "    </tr>\n",
              "  </thead>\n",
              "  <tbody>\n",
              "    <tr>\n",
              "      <th>PassengerId</th>\n",
              "      <td>0</td>\n",
              "    </tr>\n",
              "    <tr>\n",
              "      <th>Survived</th>\n",
              "      <td>0</td>\n",
              "    </tr>\n",
              "    <tr>\n",
              "      <th>Pclass</th>\n",
              "      <td>0</td>\n",
              "    </tr>\n",
              "    <tr>\n",
              "      <th>Name</th>\n",
              "      <td>0</td>\n",
              "    </tr>\n",
              "    <tr>\n",
              "      <th>Sex</th>\n",
              "      <td>0</td>\n",
              "    </tr>\n",
              "    <tr>\n",
              "      <th>Age</th>\n",
              "      <td>0</td>\n",
              "    </tr>\n",
              "    <tr>\n",
              "      <th>SibSp</th>\n",
              "      <td>0</td>\n",
              "    </tr>\n",
              "    <tr>\n",
              "      <th>Parch</th>\n",
              "      <td>0</td>\n",
              "    </tr>\n",
              "    <tr>\n",
              "      <th>Ticket</th>\n",
              "      <td>0</td>\n",
              "    </tr>\n",
              "    <tr>\n",
              "      <th>Fare</th>\n",
              "      <td>0</td>\n",
              "    </tr>\n",
              "    <tr>\n",
              "      <th>Embarked</th>\n",
              "      <td>0</td>\n",
              "    </tr>\n",
              "    <tr>\n",
              "      <th>Has_Cabin</th>\n",
              "      <td>0</td>\n",
              "    </tr>\n",
              "  </tbody>\n",
              "</table>\n",
              "</div><br><label><b>dtype:</b> int64</label>"
            ]
          },
          "metadata": {},
          "execution_count": 10
        }
      ]
    },
    {
      "cell_type": "markdown",
      "id": "c7b0676d",
      "metadata": {
        "id": "c7b0676d"
      },
      "source": [
        "### b. Remove Duplicates\n",
        "\n",
        "Check for and remove any duplicate rows."
      ]
    },
    {
      "cell_type": "code",
      "execution_count": null,
      "id": "3ca6f2ef",
      "metadata": {
        "id": "3ca6f2ef",
        "colab": {
          "base_uri": "https://localhost:8080/"
        },
        "outputId": "7465f38c-ba13-4385-8610-a9add6f14403"
      },
      "outputs": [
        {
          "output_type": "stream",
          "name": "stdout",
          "text": [
            "<class 'pandas.core.frame.DataFrame'>\n",
            "RangeIndex: 891 entries, 0 to 890\n",
            "Data columns (total 12 columns):\n",
            " #   Column       Non-Null Count  Dtype  \n",
            "---  ------       --------------  -----  \n",
            " 0   PassengerId  891 non-null    int64  \n",
            " 1   Survived     891 non-null    int64  \n",
            " 2   Pclass       891 non-null    float64\n",
            " 3   Name         891 non-null    object \n",
            " 4   Sex          891 non-null    object \n",
            " 5   Age          891 non-null    float64\n",
            " 6   SibSp        891 non-null    float64\n",
            " 7   Parch        891 non-null    float64\n",
            " 8   Ticket       891 non-null    object \n",
            " 9   Fare         891 non-null    float64\n",
            " 10  Embarked     891 non-null    object \n",
            " 11  Has_Cabin    891 non-null    float64\n",
            "dtypes: float64(6), int64(2), object(4)\n",
            "memory usage: 83.7+ KB\n"
          ]
        }
      ],
      "source": [
        "# Check for duplicates\n",
        "# Remove values duplicates considering duplicate only if it happens in all the features\n",
        "data_without_cabin = data_without_cabin.drop_duplicates()\n",
        "data_without_cabin.info()"
      ]
    },
    {
      "cell_type": "markdown",
      "id": "4ea5e0ff",
      "metadata": {
        "id": "4ea5e0ff"
      },
      "source": [
        "## 3. Data Transformation\n",
        "\n",
        "### a. Encode Categorical Variables\n",
        "\n",
        "Convert categorical variables into numerical values using one-hot encoding."
      ]
    },
    {
      "cell_type": "code",
      "execution_count": null,
      "id": "b93fb98d",
      "metadata": {
        "id": "b93fb98d",
        "colab": {
          "base_uri": "https://localhost:8080/"
        },
        "outputId": "66246b78-b335-435c-a27e-d55dd599a6a1"
      },
      "outputs": [
        {
          "output_type": "stream",
          "name": "stdout",
          "text": [
            "Index([], dtype='object')\n",
            "<class 'pandas.core.frame.DataFrame'>\n",
            "RangeIndex: 891 entries, 0 to 890\n",
            "Columns: 1585 entries, PassengerId to Embarked_S\n",
            "dtypes: bool(1577), float64(6), int64(2)\n",
            "memory usage: 1.4 MB\n"
          ]
        }
      ],
      "source": [
        "# Encode categorical variables\n",
        "# Convert categorical variables into numerical values using one-hot encoding. How many variables categorial it have\n",
        "categorical_variables = data_without_cabin.select_dtypes(include=['object'])\n",
        "print(categorical_variables.columns)\n",
        "\n",
        "# Let convert all of them into numerial using one-hot encoding\n",
        "data_encoded = pd.get_dummies(data_without_cabin, columns=categorical_variables.columns)\n",
        "data_encoded.info()\n",
        "\n",
        "# Replace the data encoded in their values in data without cabin\n",
        "data_without_cabin = data_encoded\n"
      ]
    },
    {
      "cell_type": "markdown",
      "id": "3501081b",
      "metadata": {
        "id": "3501081b"
      },
      "source": [
        "### b. Normalize Numerical Variables\n",
        "\n",
        "Normalize numerical variables to have a mean of 0 and a standard deviation of 1."
      ]
    },
    {
      "cell_type": "code",
      "execution_count": null,
      "id": "329ee72a",
      "metadata": {
        "id": "329ee72a",
        "colab": {
          "base_uri": "https://localhost:8080/"
        },
        "outputId": "88c2ca91-174c-4f26-edc8-7a0ce5763697"
      },
      "outputs": [
        {
          "output_type": "stream",
          "name": "stdout",
          "text": [
            "   PassengerId  Survived  Pclass       Age  SibSp  Parch      Fare  Has_Cabin\n",
            "0     0.000000       0.0     1.0  0.271174  0.125    0.0  0.014151        0.0\n",
            "1     0.001124       1.0     0.0  0.472229  0.125    0.0  0.139136        1.0\n",
            "2     0.002247       1.0     1.0  0.321438  0.000    0.0  0.015469        0.0\n",
            "3     0.003371       1.0     0.0  0.434531  0.125    0.0  0.103644        1.0\n",
            "4     0.004494       0.0     1.0  0.434531  0.000    0.0  0.015713        0.0\n"
          ]
        }
      ],
      "source": [
        "# Normalize numerical variables\n",
        "# Normalize numerical variables to have a mean of 0 and a standard deviation of 1\n",
        "from sklearn.preprocessing import MinMaxScaler\n",
        "data_encoded = data_without_cabin.copy()\n",
        "numeric_cols = data_encoded.select_dtypes(include=['int64', 'float64']).columns\n",
        "scaler = MinMaxScaler()\n",
        "data_encoded[numeric_cols] = scaler.fit_transform(data_encoded[numeric_cols])\n",
        "\n",
        "print(data_encoded[numeric_cols].head())\n"
      ]
    },
    {
      "cell_type": "markdown",
      "id": "7af2a8af",
      "metadata": {
        "id": "7af2a8af"
      },
      "source": [
        "## 4. Feature Selection\n",
        "\n",
        "Select relevant features for the model."
      ]
    },
    {
      "cell_type": "code",
      "execution_count": null,
      "id": "5cc5fd43",
      "metadata": {
        "id": "5cc5fd43",
        "colab": {
          "base_uri": "https://localhost:8080/"
        },
        "outputId": "5c59af4c-ba33-4cf5-9eaf-41b12482a59d"
      },
      "outputs": [
        {
          "output_type": "stream",
          "name": "stdout",
          "text": [
            "Survived           1.000000\n",
            "Sex_female         0.543351\n",
            "Has_Cabin          0.316912\n",
            "Fare               0.257307\n",
            "Embarked_C         0.168240\n",
            "                     ...   \n",
            "Ticket_347082     -0.070234\n",
            "Ticket_CA. 2343   -0.070234\n",
            "Embarked_S        -0.149683\n",
            "Pclass            -0.338481\n",
            "Sex_male          -0.543351\n",
            "Name: Survived, Length: 1585, dtype: float64\n"
          ]
        }
      ],
      "source": [
        "# Select features\n",
        "# Ho the features are correlated to the Survived\n",
        "import matplotlib.pyplot as plt\n",
        "\n",
        "# Correlation\n",
        "correlation = data_encoded.corr()['Survived'].sort_values(ascending=False)\n",
        "print(correlation)"
      ]
    },
    {
      "cell_type": "markdown",
      "id": "7913e468",
      "metadata": {
        "id": "7913e468"
      },
      "source": [
        "## 5. Split the Data\n",
        "\n",
        "Split the dataset into training and testing sets."
      ]
    },
    {
      "cell_type": "code",
      "execution_count": null,
      "id": "24d70226",
      "metadata": {
        "id": "24d70226"
      },
      "outputs": [],
      "source": [
        "# Split the data\n",
        "from sklearn.model_selection import train_test_split\n",
        "\n",
        "# Split the data 80% into training and 20% testing sets\n",
        "x_train, x_test, y_train, y_test = train_test_split(data_encoded.drop('Survived', axis=1), data_encoded['Survived'], test_size=0.2, random_state=42)\n"
      ]
    },
    {
      "cell_type": "code",
      "source": [],
      "metadata": {
        "id": "TmVFkT--H9sk"
      },
      "id": "TmVFkT--H9sk",
      "execution_count": null,
      "outputs": []
    }
  ],
  "metadata": {
    "kernelspec": {
      "display_name": "Python 3 (ipykernel)",
      "language": "python",
      "name": "python3"
    },
    "language_info": {
      "codemirror_mode": {
        "name": "ipython",
        "version": 3
      },
      "file_extension": ".py",
      "mimetype": "text/x-python",
      "name": "python",
      "nbconvert_exporter": "python",
      "pygments_lexer": "ipython3",
      "version": "3.12.3"
    },
    "colab": {
      "provenance": []
    }
  },
  "nbformat": 4,
  "nbformat_minor": 5
}