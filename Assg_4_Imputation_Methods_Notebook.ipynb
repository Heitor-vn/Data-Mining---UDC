{
  "cells": [
    {
      "cell_type": "markdown",
      "id": "9665ebea",
      "metadata": {
        "id": "9665ebea"
      },
      "source": [
        "# Imputation Methods\n",
        "by Wilmer Garzón, last updated: 30-June-2025\n",
        "\n",
        "This notebook demonstrates various imputation methods for handling missing data. We will use a sample dataset with missing values and apply different techniques to fill in the gaps. Finally, we will compare the methods using Mean Squared Error (MSE)."
      ]
    },
    {
      "cell_type": "code",
      "execution_count": null,
      "id": "b8341d09-b666-487b-a8fd-eabecd6b6fcd",
      "metadata": {
        "id": "b8341d09-b666-487b-a8fd-eabecd6b6fcd"
      },
      "outputs": [],
      "source": [
        "import pandas as pd\n",
        "import numpy as np\n",
        "#Imports KNNImputer to fill missing values using nearest neighbors.\n",
        "from sklearn.impute import KNNImputer\n",
        "#Imports LinearRegression to build linear models\n",
        "from sklearn.linear_model import LinearRegression\n",
        "#Imports mean_squared_error to evaluate prediction accuracy.\n",
        "from sklearn.metrics import mean_squared_error\n",
        "#Imports train_test_split to divide data into training and test sets.\n",
        "from sklearn.model_selection import train_test_split"
      ]
    },
    {
      "cell_type": "markdown",
      "id": "c24bd15a-eb49-4251-835c-020d637273f6",
      "metadata": {
        "id": "c24bd15a-eb49-4251-835c-020d637273f6"
      },
      "source": [
        "## Dataset Description:\n",
        "- **Number of samples**: 500\n",
        "- **Number of features**: 6 numerical features\n",
        "- **Variables**: Feature_1, Feature_2, ..., Feature_6\n",
        "- **Target variable**: Target\n",
        "- **Missing values**: None, the dataset is fully complete"
      ]
    },
    {
      "cell_type": "code",
      "execution_count": null,
      "id": "75de11a0",
      "metadata": {
        "id": "75de11a0",
        "outputId": "93698ed1-dd58-46c7-a3f9-41cbc14de375",
        "colab": {
          "base_uri": "https://localhost:8080/",
          "height": 206
        }
      },
      "outputs": [
        {
          "output_type": "execute_result",
          "data": {
            "text/plain": [
              "   Feature_1  Feature_2  Feature_3  Feature_4  Feature_5  Feature_6  \\\n",
              "0  42.472407  77.042858  63.919637  55.919509  29.361118  29.359671   \n",
              "1  23.485017  71.970569  56.066901  62.484355  21.235070  78.194591   \n",
              "2  69.946558  32.740347  30.909498  31.004271  38.254535  51.485386   \n",
              "3  45.916701  37.473748  56.711174  28.369632  37.528679  41.981711   \n",
              "4  47.364199  67.110558  31.980427  50.854066  55.544874  22.787025   \n",
              "\n",
              "       Target  \n",
              "0  308.674565  \n",
              "1  319.606561  \n",
              "2  261.176287  \n",
              "3  234.322087  \n",
              "4  287.760589  "
            ],
            "text/html": [
              "\n",
              "  <div id=\"df-7e780baf-ed83-4f1d-a9a8-28a61141fed3\" class=\"colab-df-container\">\n",
              "    <div>\n",
              "<style scoped>\n",
              "    .dataframe tbody tr th:only-of-type {\n",
              "        vertical-align: middle;\n",
              "    }\n",
              "\n",
              "    .dataframe tbody tr th {\n",
              "        vertical-align: top;\n",
              "    }\n",
              "\n",
              "    .dataframe thead th {\n",
              "        text-align: right;\n",
              "    }\n",
              "</style>\n",
              "<table border=\"1\" class=\"dataframe\">\n",
              "  <thead>\n",
              "    <tr style=\"text-align: right;\">\n",
              "      <th></th>\n",
              "      <th>Feature_1</th>\n",
              "      <th>Feature_2</th>\n",
              "      <th>Feature_3</th>\n",
              "      <th>Feature_4</th>\n",
              "      <th>Feature_5</th>\n",
              "      <th>Feature_6</th>\n",
              "      <th>Target</th>\n",
              "    </tr>\n",
              "  </thead>\n",
              "  <tbody>\n",
              "    <tr>\n",
              "      <th>0</th>\n",
              "      <td>42.472407</td>\n",
              "      <td>77.042858</td>\n",
              "      <td>63.919637</td>\n",
              "      <td>55.919509</td>\n",
              "      <td>29.361118</td>\n",
              "      <td>29.359671</td>\n",
              "      <td>308.674565</td>\n",
              "    </tr>\n",
              "    <tr>\n",
              "      <th>1</th>\n",
              "      <td>23.485017</td>\n",
              "      <td>71.970569</td>\n",
              "      <td>56.066901</td>\n",
              "      <td>62.484355</td>\n",
              "      <td>21.235070</td>\n",
              "      <td>78.194591</td>\n",
              "      <td>319.606561</td>\n",
              "    </tr>\n",
              "    <tr>\n",
              "      <th>2</th>\n",
              "      <td>69.946558</td>\n",
              "      <td>32.740347</td>\n",
              "      <td>30.909498</td>\n",
              "      <td>31.004271</td>\n",
              "      <td>38.254535</td>\n",
              "      <td>51.485386</td>\n",
              "      <td>261.176287</td>\n",
              "    </tr>\n",
              "    <tr>\n",
              "      <th>3</th>\n",
              "      <td>45.916701</td>\n",
              "      <td>37.473748</td>\n",
              "      <td>56.711174</td>\n",
              "      <td>28.369632</td>\n",
              "      <td>37.528679</td>\n",
              "      <td>41.981711</td>\n",
              "      <td>234.322087</td>\n",
              "    </tr>\n",
              "    <tr>\n",
              "      <th>4</th>\n",
              "      <td>47.364199</td>\n",
              "      <td>67.110558</td>\n",
              "      <td>31.980427</td>\n",
              "      <td>50.854066</td>\n",
              "      <td>55.544874</td>\n",
              "      <td>22.787025</td>\n",
              "      <td>287.760589</td>\n",
              "    </tr>\n",
              "  </tbody>\n",
              "</table>\n",
              "</div>\n",
              "    <div class=\"colab-df-buttons\">\n",
              "\n",
              "  <div class=\"colab-df-container\">\n",
              "    <button class=\"colab-df-convert\" onclick=\"convertToInteractive('df-7e780baf-ed83-4f1d-a9a8-28a61141fed3')\"\n",
              "            title=\"Convert this dataframe to an interactive table.\"\n",
              "            style=\"display:none;\">\n",
              "\n",
              "  <svg xmlns=\"http://www.w3.org/2000/svg\" height=\"24px\" viewBox=\"0 -960 960 960\">\n",
              "    <path d=\"M120-120v-720h720v720H120Zm60-500h600v-160H180v160Zm220 220h160v-160H400v160Zm0 220h160v-160H400v160ZM180-400h160v-160H180v160Zm440 0h160v-160H620v160ZM180-180h160v-160H180v160Zm440 0h160v-160H620v160Z\"/>\n",
              "  </svg>\n",
              "    </button>\n",
              "\n",
              "  <style>\n",
              "    .colab-df-container {\n",
              "      display:flex;\n",
              "      gap: 12px;\n",
              "    }\n",
              "\n",
              "    .colab-df-convert {\n",
              "      background-color: #E8F0FE;\n",
              "      border: none;\n",
              "      border-radius: 50%;\n",
              "      cursor: pointer;\n",
              "      display: none;\n",
              "      fill: #1967D2;\n",
              "      height: 32px;\n",
              "      padding: 0 0 0 0;\n",
              "      width: 32px;\n",
              "    }\n",
              "\n",
              "    .colab-df-convert:hover {\n",
              "      background-color: #E2EBFA;\n",
              "      box-shadow: 0px 1px 2px rgba(60, 64, 67, 0.3), 0px 1px 3px 1px rgba(60, 64, 67, 0.15);\n",
              "      fill: #174EA6;\n",
              "    }\n",
              "\n",
              "    .colab-df-buttons div {\n",
              "      margin-bottom: 4px;\n",
              "    }\n",
              "\n",
              "    [theme=dark] .colab-df-convert {\n",
              "      background-color: #3B4455;\n",
              "      fill: #D2E3FC;\n",
              "    }\n",
              "\n",
              "    [theme=dark] .colab-df-convert:hover {\n",
              "      background-color: #434B5C;\n",
              "      box-shadow: 0px 1px 3px 1px rgba(0, 0, 0, 0.15);\n",
              "      filter: drop-shadow(0px 1px 2px rgba(0, 0, 0, 0.3));\n",
              "      fill: #FFFFFF;\n",
              "    }\n",
              "  </style>\n",
              "\n",
              "    <script>\n",
              "      const buttonEl =\n",
              "        document.querySelector('#df-7e780baf-ed83-4f1d-a9a8-28a61141fed3 button.colab-df-convert');\n",
              "      buttonEl.style.display =\n",
              "        google.colab.kernel.accessAllowed ? 'block' : 'none';\n",
              "\n",
              "      async function convertToInteractive(key) {\n",
              "        const element = document.querySelector('#df-7e780baf-ed83-4f1d-a9a8-28a61141fed3');\n",
              "        const dataTable =\n",
              "          await google.colab.kernel.invokeFunction('convertToInteractive',\n",
              "                                                    [key], {});\n",
              "        if (!dataTable) return;\n",
              "\n",
              "        const docLinkHtml = 'Like what you see? Visit the ' +\n",
              "          '<a target=\"_blank\" href=https://colab.research.google.com/notebooks/data_table.ipynb>data table notebook</a>'\n",
              "          + ' to learn more about interactive tables.';\n",
              "        element.innerHTML = '';\n",
              "        dataTable['output_type'] = 'display_data';\n",
              "        await google.colab.output.renderOutput(dataTable, element);\n",
              "        const docLink = document.createElement('div');\n",
              "        docLink.innerHTML = docLinkHtml;\n",
              "        element.appendChild(docLink);\n",
              "      }\n",
              "    </script>\n",
              "  </div>\n",
              "\n",
              "\n",
              "    <div id=\"df-1709e9e7-5dbb-4894-b384-a52e1fe7909d\">\n",
              "      <button class=\"colab-df-quickchart\" onclick=\"quickchart('df-1709e9e7-5dbb-4894-b384-a52e1fe7909d')\"\n",
              "                title=\"Suggest charts\"\n",
              "                style=\"display:none;\">\n",
              "\n",
              "<svg xmlns=\"http://www.w3.org/2000/svg\" height=\"24px\"viewBox=\"0 0 24 24\"\n",
              "     width=\"24px\">\n",
              "    <g>\n",
              "        <path d=\"M19 3H5c-1.1 0-2 .9-2 2v14c0 1.1.9 2 2 2h14c1.1 0 2-.9 2-2V5c0-1.1-.9-2-2-2zM9 17H7v-7h2v7zm4 0h-2V7h2v10zm4 0h-2v-4h2v4z\"/>\n",
              "    </g>\n",
              "</svg>\n",
              "      </button>\n",
              "\n",
              "<style>\n",
              "  .colab-df-quickchart {\n",
              "      --bg-color: #E8F0FE;\n",
              "      --fill-color: #1967D2;\n",
              "      --hover-bg-color: #E2EBFA;\n",
              "      --hover-fill-color: #174EA6;\n",
              "      --disabled-fill-color: #AAA;\n",
              "      --disabled-bg-color: #DDD;\n",
              "  }\n",
              "\n",
              "  [theme=dark] .colab-df-quickchart {\n",
              "      --bg-color: #3B4455;\n",
              "      --fill-color: #D2E3FC;\n",
              "      --hover-bg-color: #434B5C;\n",
              "      --hover-fill-color: #FFFFFF;\n",
              "      --disabled-bg-color: #3B4455;\n",
              "      --disabled-fill-color: #666;\n",
              "  }\n",
              "\n",
              "  .colab-df-quickchart {\n",
              "    background-color: var(--bg-color);\n",
              "    border: none;\n",
              "    border-radius: 50%;\n",
              "    cursor: pointer;\n",
              "    display: none;\n",
              "    fill: var(--fill-color);\n",
              "    height: 32px;\n",
              "    padding: 0;\n",
              "    width: 32px;\n",
              "  }\n",
              "\n",
              "  .colab-df-quickchart:hover {\n",
              "    background-color: var(--hover-bg-color);\n",
              "    box-shadow: 0 1px 2px rgba(60, 64, 67, 0.3), 0 1px 3px 1px rgba(60, 64, 67, 0.15);\n",
              "    fill: var(--button-hover-fill-color);\n",
              "  }\n",
              "\n",
              "  .colab-df-quickchart-complete:disabled,\n",
              "  .colab-df-quickchart-complete:disabled:hover {\n",
              "    background-color: var(--disabled-bg-color);\n",
              "    fill: var(--disabled-fill-color);\n",
              "    box-shadow: none;\n",
              "  }\n",
              "\n",
              "  .colab-df-spinner {\n",
              "    border: 2px solid var(--fill-color);\n",
              "    border-color: transparent;\n",
              "    border-bottom-color: var(--fill-color);\n",
              "    animation:\n",
              "      spin 1s steps(1) infinite;\n",
              "  }\n",
              "\n",
              "  @keyframes spin {\n",
              "    0% {\n",
              "      border-color: transparent;\n",
              "      border-bottom-color: var(--fill-color);\n",
              "      border-left-color: var(--fill-color);\n",
              "    }\n",
              "    20% {\n",
              "      border-color: transparent;\n",
              "      border-left-color: var(--fill-color);\n",
              "      border-top-color: var(--fill-color);\n",
              "    }\n",
              "    30% {\n",
              "      border-color: transparent;\n",
              "      border-left-color: var(--fill-color);\n",
              "      border-top-color: var(--fill-color);\n",
              "      border-right-color: var(--fill-color);\n",
              "    }\n",
              "    40% {\n",
              "      border-color: transparent;\n",
              "      border-right-color: var(--fill-color);\n",
              "      border-top-color: var(--fill-color);\n",
              "    }\n",
              "    60% {\n",
              "      border-color: transparent;\n",
              "      border-right-color: var(--fill-color);\n",
              "    }\n",
              "    80% {\n",
              "      border-color: transparent;\n",
              "      border-right-color: var(--fill-color);\n",
              "      border-bottom-color: var(--fill-color);\n",
              "    }\n",
              "    90% {\n",
              "      border-color: transparent;\n",
              "      border-bottom-color: var(--fill-color);\n",
              "    }\n",
              "  }\n",
              "</style>\n",
              "\n",
              "      <script>\n",
              "        async function quickchart(key) {\n",
              "          const quickchartButtonEl =\n",
              "            document.querySelector('#' + key + ' button');\n",
              "          quickchartButtonEl.disabled = true;  // To prevent multiple clicks.\n",
              "          quickchartButtonEl.classList.add('colab-df-spinner');\n",
              "          try {\n",
              "            const charts = await google.colab.kernel.invokeFunction(\n",
              "                'suggestCharts', [key], {});\n",
              "          } catch (error) {\n",
              "            console.error('Error during call to suggestCharts:', error);\n",
              "          }\n",
              "          quickchartButtonEl.classList.remove('colab-df-spinner');\n",
              "          quickchartButtonEl.classList.add('colab-df-quickchart-complete');\n",
              "        }\n",
              "        (() => {\n",
              "          let quickchartButtonEl =\n",
              "            document.querySelector('#df-1709e9e7-5dbb-4894-b384-a52e1fe7909d button');\n",
              "          quickchartButtonEl.style.display =\n",
              "            google.colab.kernel.accessAllowed ? 'block' : 'none';\n",
              "        })();\n",
              "      </script>\n",
              "    </div>\n",
              "\n",
              "    </div>\n",
              "  </div>\n"
            ],
            "application/vnd.google.colaboratory.intrinsic+json": {
              "type": "dataframe",
              "variable_name": "data",
              "summary": "{\n  \"name\": \"data\",\n  \"rows\": 500,\n  \"fields\": [\n    {\n      \"column\": \"Feature_1\",\n      \"properties\": {\n        \"dtype\": \"number\",\n        \"std\": 17.36982096974651,\n        \"min\": 20.00808158,\n        \"max\": 79.96482355,\n        \"num_unique_values\": 500,\n        \"samples\": [\n          58.0485283,\n          62.37453363,\n          71.34176563\n        ],\n        \"semantic_type\": \"\",\n        \"description\": \"\"\n      }\n    },\n    {\n      \"column\": \"Feature_2\",\n      \"properties\": {\n        \"dtype\": \"number\",\n        \"std\": 17.43276452546007,\n        \"min\": 20.08842933,\n        \"max\": 79.81245511,\n        \"num_unique_values\": 500,\n        \"samples\": [\n          27.57588449,\n          24.88092684,\n          51.28674134\n        ],\n        \"semantic_type\": \"\",\n        \"description\": \"\"\n      }\n    },\n    {\n      \"column\": \"Feature_3\",\n      \"properties\": {\n        \"dtype\": \"number\",\n        \"std\": 17.65192270886051,\n        \"min\": 20.08121754,\n        \"max\": 79.64836167,\n        \"num_unique_values\": 500,\n        \"samples\": [\n          60.57065372,\n          25.09026285,\n          23.81845456\n        ],\n        \"semantic_type\": \"\",\n        \"description\": \"\"\n      }\n    },\n    {\n      \"column\": \"Feature_4\",\n      \"properties\": {\n        \"dtype\": \"number\",\n        \"std\": 17.048198594523186,\n        \"min\": 20.4537725,\n        \"max\": 79.9830604,\n        \"num_unique_values\": 500,\n        \"samples\": [\n          39.50624093,\n          79.19837471,\n          69.88241086\n        ],\n        \"semantic_type\": \"\",\n        \"description\": \"\"\n      }\n    },\n    {\n      \"column\": \"Feature_5\",\n      \"properties\": {\n        \"dtype\": \"number\",\n        \"std\": 18.130887659622157,\n        \"min\": 20.00069809,\n        \"max\": 79.90085068,\n        \"num_unique_values\": 500,\n        \"samples\": [\n          61.1796318,\n          42.45624775,\n          55.93871049\n        ],\n        \"semantic_type\": \"\",\n        \"description\": \"\"\n      }\n    },\n    {\n      \"column\": \"Feature_6\",\n      \"properties\": {\n        \"dtype\": \"number\",\n        \"std\": 17.348536110599568,\n        \"min\": 20.09390631,\n        \"max\": 79.80181123,\n        \"num_unique_values\": 500,\n        \"samples\": [\n          24.17846889,\n          42.23852882,\n          26.89597982\n        ],\n        \"semantic_type\": \"\",\n        \"description\": \"\"\n      }\n    },\n    {\n      \"column\": \"Target\",\n      \"properties\": {\n        \"dtype\": \"number\",\n        \"std\": 43.62197062974979,\n        \"min\": 179.4496364,\n        \"max\": 407.4040643,\n        \"num_unique_values\": 500,\n        \"samples\": [\n          286.3830854,\n          275.8041051,\n          318.7899346\n        ],\n        \"semantic_type\": \"\",\n        \"description\": \"\"\n      }\n    }\n  ]\n}"
            }
          },
          "metadata": {},
          "execution_count": 31
        }
      ],
      "source": [
        "# I didn't find the file, so I created one with the same features above\n",
        "import pandas as pd\n",
        "import numpy as np\n",
        "# Load the dataset\n",
        "url = \"https://raw.github.com/Heitor-vn/Data-Mining---UDC/main/complete_dataset.csv\"\n",
        "data = pd.read_csv(url, sep=';')\n",
        "\n",
        "# Converte ',' for '.'\n",
        "for col in data.columns:\n",
        "    data[col] = data[col].str.replace(',', '.').astype(float)\n",
        "\n",
        "data.head()"
      ]
    },
    {
      "cell_type": "code",
      "execution_count": null,
      "id": "4a3be8dd",
      "metadata": {
        "id": "4a3be8dd",
        "outputId": "47b22ef6-0095-4740-bb03-5ad4278a1ea4",
        "colab": {
          "base_uri": "https://localhost:8080/",
          "height": 304
        }
      },
      "outputs": [
        {
          "output_type": "execute_result",
          "data": {
            "text/plain": [
              "Feature_1    0\n",
              "Feature_2    0\n",
              "Feature_3    0\n",
              "Feature_4    0\n",
              "Feature_5    0\n",
              "Feature_6    0\n",
              "Target       0\n",
              "dtype: int64"
            ],
            "text/html": [
              "<div>\n",
              "<style scoped>\n",
              "    .dataframe tbody tr th:only-of-type {\n",
              "        vertical-align: middle;\n",
              "    }\n",
              "\n",
              "    .dataframe tbody tr th {\n",
              "        vertical-align: top;\n",
              "    }\n",
              "\n",
              "    .dataframe thead th {\n",
              "        text-align: right;\n",
              "    }\n",
              "</style>\n",
              "<table border=\"1\" class=\"dataframe\">\n",
              "  <thead>\n",
              "    <tr style=\"text-align: right;\">\n",
              "      <th></th>\n",
              "      <th>0</th>\n",
              "    </tr>\n",
              "  </thead>\n",
              "  <tbody>\n",
              "    <tr>\n",
              "      <th>Feature_1</th>\n",
              "      <td>0</td>\n",
              "    </tr>\n",
              "    <tr>\n",
              "      <th>Feature_2</th>\n",
              "      <td>0</td>\n",
              "    </tr>\n",
              "    <tr>\n",
              "      <th>Feature_3</th>\n",
              "      <td>0</td>\n",
              "    </tr>\n",
              "    <tr>\n",
              "      <th>Feature_4</th>\n",
              "      <td>0</td>\n",
              "    </tr>\n",
              "    <tr>\n",
              "      <th>Feature_5</th>\n",
              "      <td>0</td>\n",
              "    </tr>\n",
              "    <tr>\n",
              "      <th>Feature_6</th>\n",
              "      <td>0</td>\n",
              "    </tr>\n",
              "    <tr>\n",
              "      <th>Target</th>\n",
              "      <td>0</td>\n",
              "    </tr>\n",
              "  </tbody>\n",
              "</table>\n",
              "</div><br><label><b>dtype:</b> int64</label>"
            ]
          },
          "metadata": {},
          "execution_count": 20
        }
      ],
      "source": [
        "# Check for missing values\n",
        "data.isnull().sum()"
      ]
    },
    {
      "cell_type": "markdown",
      "id": "36bfad27-3d51-4289-868b-87154c15a3fc",
      "metadata": {
        "id": "36bfad27-3d51-4289-868b-87154c15a3fc"
      },
      "source": [
        "## Exercises:\n",
        "- Please complete the following tasks step by step.\n",
        "- Each numbered item corresponds to a specific imputation technique or evaluation method that you must implement and analyze."
      ]
    },
    {
      "cell_type": "markdown",
      "source": [
        "**STEP 0: INTRODUCE 10% OF MISSING VALUES**"
      ],
      "metadata": {
        "id": "-kZ4veKEf6yG"
      },
      "id": "-kZ4veKEf6yG"
    },
    {
      "cell_type": "code",
      "source": [
        "# Create 10% of missing values in data using mean of each feature and with random application\n",
        "data_with_missing = data.copy()\n",
        "\n",
        "# Put 10% of missing value por column\n",
        "missing_percentage = 0.1\n",
        "for column in data_with_missing.columns:\n",
        "    missing_indices = np.random.choice(data_with_missing.index, size=int(len(data_with_missing) * missing_percentage), replace=False)\n",
        "    data_with_missing.loc[missing_indices, column] = np.nan\n",
        "\n",
        "# Check missing values\n",
        "print(data_with_missing.isnull().sum())\n"
      ],
      "metadata": {
        "colab": {
          "base_uri": "https://localhost:8080/"
        },
        "id": "kshCt-qc8tva",
        "outputId": "20367848-1444-4008-f112-bc280b9a8171"
      },
      "id": "kshCt-qc8tva",
      "execution_count": null,
      "outputs": [
        {
          "output_type": "stream",
          "name": "stdout",
          "text": [
            "Feature_1    50\n",
            "Feature_2    50\n",
            "Feature_3    50\n",
            "Feature_4    50\n",
            "Feature_5    50\n",
            "Feature_6    50\n",
            "Target       50\n",
            "dtype: int64\n"
          ]
        }
      ]
    },
    {
      "cell_type": "markdown",
      "id": "999978fe",
      "metadata": {
        "id": "999978fe"
      },
      "source": [
        "### Imputation with Mean\n",
        "*Impute missing values by replacing them with the mean of each feature*"
      ]
    },
    {
      "cell_type": "code",
      "execution_count": null,
      "id": "96969514",
      "metadata": {
        "id": "96969514",
        "colab": {
          "base_uri": "https://localhost:8080/"
        },
        "outputId": "e630f093-1169-40a1-d1f9-462f79d9b12b"
      },
      "outputs": [
        {
          "output_type": "stream",
          "name": "stdout",
          "text": [
            "Feature_1    0\n",
            "Feature_2    0\n",
            "Feature_3    0\n",
            "Feature_4    0\n",
            "Feature_5    0\n",
            "Feature_6    0\n",
            "Target       0\n",
            "dtype: int64\n"
          ]
        }
      ],
      "source": [
        "#YOUR CODE HERE\n",
        "# Impute the missing values by the mean of each column\n",
        "data_with_missing_mean = data_with_missing.copy()\n",
        "data_with_missing_mean = data_with_missing_mean.fillna(data_with_missing_mean.mean(numeric_only=True))\n",
        "\n",
        "# Check missing values\n",
        "print(data_with_missing_mean.isnull().sum())"
      ]
    },
    {
      "cell_type": "markdown",
      "id": "74f02d0f",
      "metadata": {
        "id": "74f02d0f"
      },
      "source": [
        "### Imputation with Median\n",
        "*Impute missing values using the median of each feature to reduce the impact of outliers*"
      ]
    },
    {
      "cell_type": "code",
      "execution_count": null,
      "id": "8d4cd9b3",
      "metadata": {
        "id": "8d4cd9b3",
        "colab": {
          "base_uri": "https://localhost:8080/"
        },
        "outputId": "6c4dfbbd-aee5-4c3e-ff3c-28f9d1d17398"
      },
      "outputs": [
        {
          "output_type": "stream",
          "name": "stdout",
          "text": [
            "Feature_1    0\n",
            "Feature_2    0\n",
            "Feature_3    0\n",
            "Feature_4    0\n",
            "Feature_5    0\n",
            "Feature_6    0\n",
            "Target       0\n",
            "dtype: int64\n"
          ]
        }
      ],
      "source": [
        "#YOUR CODE HERE\n",
        "# Impute the missing values by the median of each column\n",
        "data_with_missing_median = data_with_missing.copy()\n",
        "data_with_missing_median = data_with_missing_median.fillna(data_with_missing_median.median(numeric_only=True))\n",
        "\n",
        "# Check missing values\n",
        "print(data_with_missing_median.isnull().sum())"
      ]
    },
    {
      "cell_type": "markdown",
      "id": "42bf9461",
      "metadata": {
        "id": "42bf9461"
      },
      "source": [
        "### Imputation with KNN\n",
        "*Use the K-Nearest Neighbors (KNN) algorithm to impute missing values based on similar observations*"
      ]
    },
    {
      "cell_type": "code",
      "execution_count": null,
      "id": "4111f4ee",
      "metadata": {
        "id": "4111f4ee",
        "colab": {
          "base_uri": "https://localhost:8080/"
        },
        "outputId": "b2ccc13f-9d54-421d-bcb4-2e9cfe828b9f"
      },
      "outputs": [
        {
          "output_type": "stream",
          "name": "stdout",
          "text": [
            "Feature_1    0\n",
            "Feature_2    0\n",
            "Feature_3    0\n",
            "Feature_4    0\n",
            "Feature_5    0\n",
            "Feature_6    0\n",
            "Target       0\n",
            "dtype: int64\n"
          ]
        }
      ],
      "source": [
        "#YOUR CODE HERE\n",
        "import pandas as pd\n",
        "from sklearn.impute import KNNImputer\n",
        "# Impute the missing values by using KNN = 5 neighboors\n",
        "data_with_missing_knn = data_with_missing.copy()\n",
        "imputer = KNNImputer(n_neighbors=5)\n",
        "data_with_missing_knn = pd.DataFrame(imputer.fit_transform(data_with_missing_knn), columns=data_with_missing_knn.columns)\n",
        "\n",
        "print(data_with_missing_knn.isnull().sum())\n",
        "\n"
      ]
    },
    {
      "cell_type": "markdown",
      "id": "1c8c514c",
      "metadata": {
        "id": "1c8c514c"
      },
      "source": [
        "### Imputation with Linear Regression\n",
        "*Train a linear regression model on the available data and use it to predict and fill in missing values*"
      ]
    },
    {
      "cell_type": "code",
      "execution_count": null,
      "id": "e4f2b677",
      "metadata": {
        "id": "e4f2b677",
        "colab": {
          "base_uri": "https://localhost:8080/"
        },
        "outputId": "ee69fc0e-e0f7-4661-b7f3-421af2f32c63"
      },
      "outputs": [
        {
          "output_type": "stream",
          "name": "stdout",
          "text": [
            "Feature_1    0\n",
            "Feature_2    0\n",
            "Feature_3    0\n",
            "Feature_4    0\n",
            "Feature_5    0\n",
            "Feature_6    0\n",
            "Target       0\n",
            "dtype: int64\n"
          ]
        }
      ],
      "source": [
        "# We'll predict Feature3 using Feature1 and Feature2\n",
        "#YOUR CODE HERE\n",
        "import pandas as pd\n",
        "from sklearn.linear_model import LinearRegression\n",
        "from sklearn.model_selection import train_test_split\n",
        "from sklearn.metrics import mean_squared_error\n",
        "# Impute the missing values by using Linear Regression for the columns without errors\n",
        "data_with_missing_lr = data_with_missing.copy()\n",
        "\n",
        "for col in data_with_missing_lr.columns:\n",
        "    if data_with_missing_lr[col].isnull().sum() > 0:\n",
        "        # Separar linhas sem missing nessa coluna\n",
        "        df_train = data_with_missing_lr[data_with_missing_lr[col].notnull()]\n",
        "        df_missing = data_with_missing_lr[data_with_missing_lr[col].isnull()]\n",
        "\n",
        "        X_train = df_train.drop(columns=[col])\n",
        "        y_train = df_train[col]\n",
        "\n",
        "        X_missing = df_missing.drop(columns=[col])\n",
        "\n",
        "        # Se existirem missing nas features, imputar por média temporariamente\n",
        "        X_train = X_train.fillna(X_train.mean())\n",
        "        X_missing = X_missing.fillna(X_train.mean())\n",
        "\n",
        "        model = LinearRegression()\n",
        "        model.fit(X_train, y_train)\n",
        "\n",
        "        # Prever valores faltantes\n",
        "        predicted = model.predict(X_missing)\n",
        "\n",
        "        # Imputar os valores preditos no DataFrame original\n",
        "        data_with_missing_lr.loc[data_with_missing_lr[col].isnull(), col] = predicted\n",
        "\n",
        "print(data_with_missing_lr.isnull().sum())"
      ]
    },
    {
      "cell_type": "markdown",
      "id": "29e439a7-eba1-4b95-9e67-69a5d952b473",
      "metadata": {
        "id": "29e439a7-eba1-4b95-9e67-69a5d952b473"
      },
      "source": [
        "### Mean Squared Error (MSE)\n",
        "- The MSE is a common metric used to evaluate the accuracy of a model or method by measuring the average of the squares of the errors.\n",
        "- The average squared difference between the actual (true) values and the predicted or imputed values.\n",
        "\n",
        "![MSE](https://miro.medium.com/v2/resize:fit:720/format:webp/0*ox49JmZ2YkKrqG9N.jpg)"
      ]
    },
    {
      "cell_type": "markdown",
      "id": "25a1379e-0ee0-44db-9a14-5e16e367558b",
      "metadata": {
        "id": "25a1379e-0ee0-44db-9a14-5e16e367558b"
      },
      "source": [
        "### Compare Imputation Methods using MSE\n",
        "*Evaluate and compare imputation methods by calculating the Mean Squared Error (MSE) between imputed and true values*"
      ]
    },
    {
      "cell_type": "code",
      "source": [
        "# Compare all the imputations made above using MSE\n",
        "import numpy as np\n",
        "from sklearn.metrics import mean_squared_error\n",
        "\n",
        "# Check where was the error befor the imputation\n",
        "missing_indices = data_with_missing['Feature_3'].isnull()\n",
        "\n",
        "# MSE\n",
        "mse_mean = mean_squared_error(data.loc[missing_indices, 'Feature_3'], data_with_missing_mean.loc[missing_indices, 'Feature_3'])\n",
        "mse_median = mean_squared_error(data.loc[missing_indices, 'Feature_3'], data_with_missing_median.loc[missing_indices, 'Feature_3'])\n",
        "mse_knn = mean_squared_error(data.loc[missing_indices, 'Feature_3'], data_with_missing_knn.loc[missing_indices, 'Feature_3'])\n",
        "mse_lr = mean_squared_error(data.loc[missing_indices, 'Feature_3'], data_with_missing_lr.loc[missing_indices, 'Feature_3'])\n",
        "\n",
        "print(f\"MSE Mean Imputation: {mse_mean}\")\n",
        "print(f\"MSE Median Imputation: {mse_median}\")\n",
        "print(f\"MSE KNN Imputation: {mse_knn}\")\n",
        "print(f\"MSE Linear Regression Imputation: {mse_lr}\")"
      ],
      "metadata": {
        "colab": {
          "base_uri": "https://localhost:8080/"
        },
        "id": "pCb-nXor-3tc",
        "outputId": "a69206ca-e0ea-4d8b-b57b-504855bb56b0"
      },
      "id": "pCb-nXor-3tc",
      "execution_count": null,
      "outputs": [
        {
          "output_type": "stream",
          "name": "stdout",
          "text": [
            "MSE Mean Imputation: 340.38270856124757\n",
            "MSE Median Imputation: 343.39387326203496\n",
            "MSE KNN Imputation: 389.0884623947103\n",
            "MSE Linear Regression Imputation: 209.53055017532054\n"
          ]
        }
      ]
    },
    {
      "cell_type": "code",
      "source": [],
      "metadata": {
        "id": "4gJ7ke4Q_HqR"
      },
      "id": "4gJ7ke4Q_HqR",
      "execution_count": null,
      "outputs": []
    }
  ],
  "metadata": {
    "kernelspec": {
      "display_name": "Python 3 (ipykernel)",
      "language": "python",
      "name": "python3"
    },
    "language_info": {
      "codemirror_mode": {
        "name": "ipython",
        "version": 3
      },
      "file_extension": ".py",
      "mimetype": "text/x-python",
      "name": "python",
      "nbconvert_exporter": "python",
      "pygments_lexer": "ipython3",
      "version": "3.12.3"
    },
    "colab": {
      "provenance": []
    }
  },
  "nbformat": 4,
  "nbformat_minor": 5
}