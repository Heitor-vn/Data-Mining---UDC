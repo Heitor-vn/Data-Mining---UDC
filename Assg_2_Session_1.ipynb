{
  "cells": [
    {
      "cell_type": "markdown",
      "metadata": {
        "id": "b3DNx3BrHuPm"
      },
      "source": [
        "# Data Mining and Neural Networks\n",
        "## Practical Session 1\n",
        "by Wilmer Garzón, last updated: 26-June-2025\n",
        "\n",
        "## Objective\n",
        "In this session, we will practice the following topics:\n",
        "- Introduction to Python and Jupyter\n",
        "- Loading data with pandas\n",
        "- Basic data visualization with seaborn\n",
        "- Data normalization with sklearn\n",
        "\n",
        "Let's get started!"
      ]
    },
    {
      "cell_type": "markdown",
      "metadata": {
        "id": "5ghxcajlHuPm"
      },
      "source": [
        "### 1. Loading Data with pandas\n",
        "We will start by loading a sample dataset using pandas."
      ]
    },
    {
      "cell_type": "code",
      "execution_count": null,
      "metadata": {
        "id": "S3XQRAgoHuPn",
        "outputId": "ebe24ce1-b037-48b6-966b-ecc6f1cc15dc"
      },
      "outputs": [
        {
          "data": {
            "text/html": [
              "<div>\n",
              "<style scoped>\n",
              "    .dataframe tbody tr th:only-of-type {\n",
              "        vertical-align: middle;\n",
              "    }\n",
              "\n",
              "    .dataframe tbody tr th {\n",
              "        vertical-align: top;\n",
              "    }\n",
              "\n",
              "    .dataframe thead th {\n",
              "        text-align: right;\n",
              "    }\n",
              "</style>\n",
              "<table border=\"1\" class=\"dataframe\">\n",
              "  <thead>\n",
              "    <tr style=\"text-align: right;\">\n",
              "      <th></th>\n",
              "      <th>PassengerId</th>\n",
              "      <th>Survived</th>\n",
              "      <th>Pclass</th>\n",
              "      <th>Name</th>\n",
              "      <th>Sex</th>\n",
              "      <th>Age</th>\n",
              "      <th>SibSp</th>\n",
              "      <th>Parch</th>\n",
              "      <th>Ticket</th>\n",
              "      <th>Fare</th>\n",
              "      <th>Cabin</th>\n",
              "      <th>Embarked</th>\n",
              "    </tr>\n",
              "  </thead>\n",
              "  <tbody>\n",
              "    <tr>\n",
              "      <th>0</th>\n",
              "      <td>1</td>\n",
              "      <td>0</td>\n",
              "      <td>3</td>\n",
              "      <td>Braund, Mr. Owen Harris</td>\n",
              "      <td>male</td>\n",
              "      <td>22.0</td>\n",
              "      <td>1</td>\n",
              "      <td>0</td>\n",
              "      <td>A/5 21171</td>\n",
              "      <td>7.2500</td>\n",
              "      <td>NaN</td>\n",
              "      <td>S</td>\n",
              "    </tr>\n",
              "    <tr>\n",
              "      <th>1</th>\n",
              "      <td>2</td>\n",
              "      <td>1</td>\n",
              "      <td>1</td>\n",
              "      <td>Cumings, Mrs. John Bradley (Florence Briggs Th...</td>\n",
              "      <td>female</td>\n",
              "      <td>38.0</td>\n",
              "      <td>1</td>\n",
              "      <td>0</td>\n",
              "      <td>PC 17599</td>\n",
              "      <td>71.2833</td>\n",
              "      <td>C85</td>\n",
              "      <td>C</td>\n",
              "    </tr>\n",
              "    <tr>\n",
              "      <th>2</th>\n",
              "      <td>3</td>\n",
              "      <td>1</td>\n",
              "      <td>3</td>\n",
              "      <td>Heikkinen, Miss. Laina</td>\n",
              "      <td>female</td>\n",
              "      <td>26.0</td>\n",
              "      <td>0</td>\n",
              "      <td>0</td>\n",
              "      <td>STON/O2. 3101282</td>\n",
              "      <td>7.9250</td>\n",
              "      <td>NaN</td>\n",
              "      <td>S</td>\n",
              "    </tr>\n",
              "    <tr>\n",
              "      <th>3</th>\n",
              "      <td>4</td>\n",
              "      <td>1</td>\n",
              "      <td>1</td>\n",
              "      <td>Futrelle, Mrs. Jacques Heath (Lily May Peel)</td>\n",
              "      <td>female</td>\n",
              "      <td>35.0</td>\n",
              "      <td>1</td>\n",
              "      <td>0</td>\n",
              "      <td>113803</td>\n",
              "      <td>53.1000</td>\n",
              "      <td>C123</td>\n",
              "      <td>S</td>\n",
              "    </tr>\n",
              "    <tr>\n",
              "      <th>4</th>\n",
              "      <td>5</td>\n",
              "      <td>0</td>\n",
              "      <td>3</td>\n",
              "      <td>Allen, Mr. William Henry</td>\n",
              "      <td>male</td>\n",
              "      <td>35.0</td>\n",
              "      <td>0</td>\n",
              "      <td>0</td>\n",
              "      <td>373450</td>\n",
              "      <td>8.0500</td>\n",
              "      <td>NaN</td>\n",
              "      <td>S</td>\n",
              "    </tr>\n",
              "  </tbody>\n",
              "</table>\n",
              "</div>"
            ],
            "text/plain": [
              "   PassengerId  Survived  Pclass  \\\n",
              "0            1         0       3   \n",
              "1            2         1       1   \n",
              "2            3         1       3   \n",
              "3            4         1       1   \n",
              "4            5         0       3   \n",
              "\n",
              "                                                Name     Sex   Age  SibSp  \\\n",
              "0                            Braund, Mr. Owen Harris    male  22.0      1   \n",
              "1  Cumings, Mrs. John Bradley (Florence Briggs Th...  female  38.0      1   \n",
              "2                             Heikkinen, Miss. Laina  female  26.0      0   \n",
              "3       Futrelle, Mrs. Jacques Heath (Lily May Peel)  female  35.0      1   \n",
              "4                           Allen, Mr. William Henry    male  35.0      0   \n",
              "\n",
              "   Parch            Ticket     Fare Cabin Embarked  \n",
              "0      0         A/5 21171   7.2500   NaN        S  \n",
              "1      0          PC 17599  71.2833   C85        C  \n",
              "2      0  STON/O2. 3101282   7.9250   NaN        S  \n",
              "3      0            113803  53.1000  C123        S  \n",
              "4      0            373450   8.0500   NaN        S  "
            ]
          },
          "execution_count": 1,
          "metadata": {},
          "output_type": "execute_result"
        }
      ],
      "source": [
        "import pandas as pd\n",
        "\n",
        "# Load the dataset\n",
        "data = pd.read_csv('titanic.csv.csv')\n",
        "\n",
        "# Display the first few rows\n",
        "data.head()"
      ]
    },
    {
      "cell_type": "markdown",
      "metadata": {
        "id": "GJpcK-GBHuPn"
      },
      "source": [
        "### 2. Basic Data Visualization with seaborn\n",
        "We will create a simple bar plot to visualize the data."
      ]
    },
    {
      "cell_type": "code",
      "execution_count": null,
      "metadata": {
        "id": "imHSyt5EHuPn",
        "outputId": "6d687804-7337-4445-b538-24eab7197eed"
      },
      "outputs": [
        {
          "data": {
            "image/png": "[encoded data removed]",
            "text/plain": [
              "<Figure size 640x480 with 1 Axes>"
            ]
          },
          "metadata": {},
          "output_type": "display_data"
        }
      ],
      "source": [
        "import seaborn as sns\n",
        "import matplotlib.pyplot as plt\n",
        "\n",
        "# Create a bar plot\n",
        "sns.barplot(x='PassengerId', y='Age', data=data)\n",
        "plt.show()"
      ]
    },
    {
      "cell_type": "markdown",
      "metadata": {
        "id": "w4A6bJvFHuPn"
      },
      "source": [
        "### 3. Data Normalization with sklearn\n",
        "We will normalize the 'Value' column using MinMaxScaler."
      ]
    },
    {
      "cell_type": "code",
      "execution_count": null,
      "metadata": {
        "id": "0lp04igSHuPn",
        "outputId": "448763b0-d325-4cd0-9afc-0c20bc4ddbfb",
        "colab": {
          "base_uri": "https://localhost:8080/"
        }
      },
      "outputs": [
        {
          "output_type": "stream",
          "name": "stdout",
          "text": [
            "Antes de normalizar:\n",
            "      fare\n",
            "0   7.2500\n",
            "1  71.2833\n",
            "2   7.9250\n",
            "3  53.1000\n",
            "4   8.0500\n",
            "\n",
            "Después de normalizar:\n",
            "      fare  Normalized_Fare\n",
            "0   7.2500         0.014151\n",
            "1  71.2833         0.139136\n",
            "2   7.9250         0.015469\n",
            "3  53.1000         0.103644\n",
            "4   8.0500         0.015713\n"
          ]
        }
      ],
      "source": [
        "import pandas as pd\n",
        "from sklearn.preprocessing import MinMaxScaler\n",
        "import seaborn as sns\n",
        "\n",
        "# Cargar un conjunto de datos de ejemplo (Titanic)\n",
        "data = sns.load_dataset('titanic')\n",
        "\n",
        "# Mostrar las primeras filas antes de normalizar\n",
        "print(\"Antes de normalizar:\")\n",
        "print(data[['fare']].head())\n",
        "\n",
        "# Eliminar filas con valores nulos en 'fare'\n",
        "data = data.dropna(subset=['fare'])\n",
        "\n",
        "# Inicializar el escalador\n",
        "scaler = MinMaxScaler()\n",
        "\n",
        "# Normalizar la columna 'fare' (seaborn usa minúsculas)\n",
        "data['Normalized_Fare'] = scaler.fit_transform(data[['fare']])\n",
        "\n",
        "# Mostrar las primeras filas después de normalizar\n",
        "print(\"\\nDespués de normalizar:\")\n",
        "print(data[['fare', 'Normalized_Fare']].head())\n"
      ]
    },
    {
      "cell_type": "markdown",
      "metadata": {
        "id": "5lk3-X_eHuPn"
      },
      "source": [
        "## Exercises\n",
        "Now it's your turn! Complete the following exercises to practice what you've learned."
      ]
    },
    {
      "cell_type": "markdown",
      "metadata": {
        "id": "v38-8kQCHuPn"
      },
      "source": [
        "### Exercise 1: Load a New Dataset\n",
        "Load the dataset 'new_data.csv' and display the first few rows."
      ]
    },
    {
      "cell_type": "code",
      "execution_count": 8,
      "metadata": {
        "id": "OnZOCysvHuPn",
        "colab": {
          "base_uri": "https://localhost:8080/"
        },
        "outputId": "7eeaee8d-a9b4-49a9-d8e2-faa7b464ad2d"
      },
      "outputs": [
        {
          "output_type": "stream",
          "name": "stdout",
          "text": [
            "  Country Name Country Code  \\\n",
            "0       Brazil          BRA   \n",
            "1       Brazil          BRA   \n",
            "2       Brazil          BRA   \n",
            "3       Brazil          BRA   \n",
            "4       Brazil          BRA   \n",
            "\n",
            "                                         Series Name     Series Code  \\\n",
            "0  Adolescent fertility rate (births per 1,000 wo...     SP.ADO.TFRT   \n",
            "1  Agriculture, forestry, and fishing, value adde...  NV.AGR.TOTL.ZS   \n",
            "2  Annual freshwater withdrawals, total (% of int...  ER.H2O.FWTL.ZS   \n",
            "3  Births attended by skilled health staff (% of ...  SH.STA.BRTC.ZS   \n",
            "4  Contraceptive prevalence, any method (% of mar...  SP.DYN.CONU.ZS   \n",
            "\n",
            "  1960 [YR1960] 1961 [YR1961] 1962 [YR1962] 1963 [YR1963] 1964 [YR1964]  \\\n",
            "0        91.302        90.889        90.139        89.118        87.591   \n",
            "1             0             0             0             0             0   \n",
            "2           NaN           NaN           NaN           NaN           NaN   \n",
            "3           NaN           NaN           NaN           NaN           NaN   \n",
            "4           NaN           NaN           NaN           NaN           NaN   \n",
            "\n",
            "  1965 [YR1965]  ...     2015 [YR2015]     2016 [YR2016]     2017 [YR2017]  \\\n",
            "0        84.114  ...            61.779            58.372            56.558   \n",
            "1             0  ...  4.31914942964047  4.89135358790863  4.60059169568986   \n",
            "2           NaN  ...   1.1280692457163  1.17134781840664  1.16021904257198   \n",
            "3           NaN  ...              98.2              98.6              98.7   \n",
            "4           NaN  ...               NaN               NaN               NaN   \n",
            "\n",
            "      2018 [YR2018]     2019 [YR2019]     2020 [YR2020]     2021 [YR2021]  \\\n",
            "0            54.287            50.958             47.46             45.67   \n",
            "1   4.4203993038464  4.20501409463474  5.71148511499007   6.5587626121061   \n",
            "2  1.17470411588059  1.19130895601484  1.18689277512807  1.18901254195372   \n",
            "3              98.8              98.4              98.4               NaN   \n",
            "4               NaN               NaN               NaN               NaN   \n",
            "\n",
            "      2022 [YR2022]     2023 [YR2023]     2024 [YR2024]  \n",
            "0            42.881            42.686               NaN  \n",
            "1  5.76747490819457  6.02306023526246  5.57967431437384  \n",
            "2               NaN               NaN               NaN  \n",
            "3               NaN               NaN               NaN  \n",
            "4               NaN               NaN               NaN  \n",
            "\n",
            "[5 rows x 69 columns]\n"
          ]
        }
      ],
      "source": [
        "import pandas as pd\n",
        "import numpy as np\n",
        "\n",
        "# Leer el archivo desde /content\n",
        "url = \"https://raw.github.com/Heitor-vn/Data-Mining---UDC/main/GDP_Databank.csv\"\n",
        "data = pd.read_csv(url)\n",
        "data.replace('..', np.nan, inplace=True)\n",
        "\n",
        "# Mostrar las primeras filas\n",
        "print(data.head())"
      ]
    },
    {
      "cell_type": "markdown",
      "metadata": {
        "id": "G_InrU2UHuPo"
      },
      "source": [
        "### Exercise 2: Calculate Descriptive Statistics\n",
        "Calculate and display the descriptive statistics for the new dataset."
      ]
    },
    {
      "cell_type": "code",
      "execution_count": 9,
      "metadata": {
        "id": "Mr8LL1cCHuPo",
        "colab": {
          "base_uri": "https://localhost:8080/"
        },
        "outputId": "f0f30509-d91d-41fb-aa0a-ac29d337afb2"
      },
      "outputs": [
        {
          "output_type": "stream",
          "name": "stdout",
          "text": [
            "       Country Name Country Code  \\\n",
            "count          1518         1516   \n",
            "unique            3            1   \n",
            "top          Brazil          BRA   \n",
            "freq           1516         1516   \n",
            "\n",
            "                                              Series Name     Series Code  \\\n",
            "count                                                1516            1516   \n",
            "unique                                               1516            1516   \n",
            "top     Young people (ages 15-24) newly infected with HIV  SH.HIV.INCD.YG   \n",
            "freq                                                    1               1   \n",
            "\n",
            "       1960 [YR1960] 1961 [YR1961] 1962 [YR1962] 1963 [YR1963] 1964 [YR1964]  \\\n",
            "count            245           271           285           286           287   \n",
            "unique           220           247           261           263           263   \n",
            "top                0             0             0             0             0   \n",
            "freq              21            19            19            19            19   \n",
            "\n",
            "       1965 [YR1965]  ... 2015 [YR2015] 2016 [YR2016] 2017 [YR2017]  \\\n",
            "count            293  ...          1171          1133          1147   \n",
            "unique           267  ...          1105          1082          1108   \n",
            "top                0  ...           100             0             0   \n",
            "freq              21  ...            11             4             4   \n",
            "\n",
            "       2018 [YR2018] 2019 [YR2019] 2020 [YR2020]    2021 [YR2021]  \\\n",
            "count           1119          1121          1095             1081   \n",
            "unique          1075          1078          1060             1040   \n",
            "top              100             0             0  1114540039.0625   \n",
            "freq               4             5             4                4   \n",
            "\n",
            "       2022 [YR2022] 2023 [YR2023]   2024 [YR2024]  \n",
            "count            991           773             361  \n",
            "unique           952           749             356  \n",
            "top              3.2             8  11384022420400  \n",
            "freq               4             3               2  \n",
            "\n",
            "[4 rows x 69 columns]\n"
          ]
        }
      ],
      "source": [
        "#Put your code here\n",
        "import pandas as pd\n",
        "descriptive_stats = data.describe()\n",
        "\n",
        "print(descriptive_stats)"
      ]
    },
    {
      "cell_type": "code",
      "source": [
        "# Convert all year columns to float (assuming they start at column index 4)\n",
        "year_columns = data.columns[4:]\n",
        "data[year_columns] = data[year_columns].apply(pd.to_numeric, errors='coerce')\n",
        "print(data.head())"
      ],
      "metadata": {
        "colab": {
          "base_uri": "https://localhost:8080/"
        },
        "id": "q03J0A4eK9XW",
        "outputId": "2493b4aa-7a94-4f3a-8d3a-dcd32706665f"
      },
      "execution_count": 11,
      "outputs": [
        {
          "output_type": "stream",
          "name": "stdout",
          "text": [
            "  Country Name Country Code  \\\n",
            "0       Brazil          BRA   \n",
            "1       Brazil          BRA   \n",
            "2       Brazil          BRA   \n",
            "3       Brazil          BRA   \n",
            "4       Brazil          BRA   \n",
            "\n",
            "                                         Series Name     Series Code  \\\n",
            "0  Adolescent fertility rate (births per 1,000 wo...     SP.ADO.TFRT   \n",
            "1  Agriculture, forestry, and fishing, value adde...  NV.AGR.TOTL.ZS   \n",
            "2  Annual freshwater withdrawals, total (% of int...  ER.H2O.FWTL.ZS   \n",
            "3  Births attended by skilled health staff (% of ...  SH.STA.BRTC.ZS   \n",
            "4  Contraceptive prevalence, any method (% of mar...  SP.DYN.CONU.ZS   \n",
            "\n",
            "   1960 [YR1960]  1961 [YR1961]  1962 [YR1962]  1963 [YR1963]  1964 [YR1964]  \\\n",
            "0         91.302         90.889         90.139         89.118         87.591   \n",
            "1          0.000          0.000          0.000          0.000          0.000   \n",
            "2            NaN            NaN            NaN            NaN            NaN   \n",
            "3            NaN            NaN            NaN            NaN            NaN   \n",
            "4            NaN            NaN            NaN            NaN            NaN   \n",
            "\n",
            "   1965 [YR1965]  ...  2015 [YR2015]  2016 [YR2016]  2017 [YR2017]  \\\n",
            "0         84.114  ...      61.779000      58.372000      56.558000   \n",
            "1          0.000  ...       4.319149       4.891354       4.600592   \n",
            "2            NaN  ...       1.128069       1.171348       1.160219   \n",
            "3            NaN  ...      98.200000      98.600000      98.700000   \n",
            "4            NaN  ...            NaN            NaN            NaN   \n",
            "\n",
            "   2018 [YR2018]  2019 [YR2019]  2020 [YR2020]  2021 [YR2021]  2022 [YR2022]  \\\n",
            "0      54.287000      50.958000      47.460000      45.670000      42.881000   \n",
            "1       4.420399       4.205014       5.711485       6.558763       5.767475   \n",
            "2       1.174704       1.191309       1.186893       1.189013            NaN   \n",
            "3      98.800000      98.400000      98.400000            NaN            NaN   \n",
            "4            NaN            NaN            NaN            NaN            NaN   \n",
            "\n",
            "   2023 [YR2023]  2024 [YR2024]  \n",
            "0       42.68600            NaN  \n",
            "1        6.02306       5.579674  \n",
            "2            NaN            NaN  \n",
            "3            NaN            NaN  \n",
            "4            NaN            NaN  \n",
            "\n",
            "[5 rows x 69 columns]\n"
          ]
        }
      ]
    },
    {
      "cell_type": "markdown",
      "metadata": {
        "id": "xz96N-QQHuPo"
      },
      "source": [
        "### Exercise 3: Create a Bar Plot\n",
        "Create a bar plot to visualize the 'Category' and 'Value' columns in the new dataset."
      ]
    },
    {
      "cell_type": "code",
      "execution_count": 17,
      "metadata": {
        "id": "kqVsJ7slHuPo",
        "colab": {
          "base_uri": "https://localhost:8080/",
          "height": 672
        },
        "outputId": "f87943a1-e8ef-4157-cfc2-4310f133ce3e"
      },
      "outputs": [
        {
          "output_type": "stream",
          "name": "stderr",
          "text": [
            "/tmp/ipython-input-17-1871533213.py:23: FutureWarning: \n",
            "\n",
            "Passing `palette` without assigning `hue` is deprecated and will be removed in v0.14.0. Assign the `x` variable to `hue` and set `legend=False` for the same effect.\n",
            "\n",
            "  sns.barplot(data=df_b, x='Year', y='Value', palette='viridis')\n"
          ]
        },
        {
          "output_type": "display_data",
          "data": {
            "text/plain": [
              "<Figure size 1200x600 with 1 Axes>"
            ],
            "image/png": "[encoded data removed]"
          },
          "metadata": {}
        }
      ],
      "source": [
        "#Put your code here\n",
        "import seaborn as sns\n",
        "import matplotlib.pyplot as plt\n",
        "\n",
        "# Crear un gráfico de barras\n",
        "import pandas as pd\n",
        "\n",
        "# Make a plot if one of the variables above\n",
        "category = 'Adolescent fertility rate (births per 1,000 women ages 15-19)'\n",
        "df_cat = data[data['Series Name'] == category]\n",
        "year_cols = [col for col in data.columns if '[YR' in col]\n",
        "\n",
        "df_long = df_cat.melt(id_vars=['Country Name', 'Country Code', 'Series Name', 'Series Code'],\n",
        "                     value_vars=year_cols,\n",
        "                     var_name='Year',\n",
        "                     value_name='Value')\n",
        "df_long['Year'] = df_long['Year'].str.extract(r'(\\d{4})').astype(int)\n",
        "\n",
        "df_b = df_long[df_long['Country Name'] == 'Brazil']\n",
        "\n",
        "# Gráfico de barras para valores ao longo dos anos\n",
        "plt.figure(figsize=(12,6))\n",
        "sns.barplot(data=df_b, x='Year', y='Value', palette='viridis')\n",
        "\n",
        "plt.title(f'Valores de \"{category}\" para o Brasil ao longo dos anos')\n",
        "plt.xticks(rotation=45)\n",
        "plt.show()\n",
        "\n",
        "\n"
      ]
    },
    {
      "cell_type": "markdown",
      "metadata": {
        "id": "SIN1kBvPHuPo"
      },
      "source": [
        "### Exercise 4: Normalize a New Column\n",
        "Normalize the 'Value' column in the new dataset using MinMaxScaler."
      ]
    },
    {
      "cell_type": "code",
      "execution_count": 21,
      "metadata": {
        "id": "uYzKaFUNHuPo",
        "colab": {
          "base_uri": "https://localhost:8080/"
        },
        "outputId": "43908b60-2d68-480f-bace-22373cf28fe2"
      },
      "outputs": [
        {
          "output_type": "stream",
          "name": "stdout",
          "text": [
            "   Year  Normalized_Value\n",
            "0  1960          1.000000\n",
            "1  1961          0.991505\n",
            "2  1962          0.976078\n",
            "3  1963          0.955077\n",
            "4  1964          0.923667\n"
          ]
        }
      ],
      "source": [
        "#Put your code here\n",
        "import pandas as pd\n",
        "from sklearn.preprocessing import MinMaxScaler\n",
        "# Normalize the value used in the plot\n",
        "category = 'Adolescent fertility rate (births per 1,000 women ages 15-19)'\n",
        "df_cat = data[data['Series Name'] == category]\n",
        "\n",
        "year_cols = [col for col in df_cat.columns if '[YR' in col]\n",
        "\n",
        "values = df_cat[year_cols].values.flatten().reshape(-1, 1)\n",
        "scaler = MinMaxScaler()\n",
        "normalized_values = scaler.fit_transform(values)\n",
        "\n",
        "years = [int(col.split()[0]) for col in year_cols]  # extrai o ano como inteiro\n",
        "\n",
        "df_normalized = pd.DataFrame({\n",
        "    'Year': np.repeat(years, df_cat.shape[0]),  # repete os anos para cada país (ou só 1)\n",
        "    'Normalized_Value': normalized_values.flatten()\n",
        "})\n",
        "\n",
        "print(df_normalized.head())"
      ]
    }
  ],
  "metadata": {
    "kernelspec": {
      "display_name": "Python 3 (ipykernel)",
      "language": "python",
      "name": "python3"
    },
    "language_info": {
      "codemirror_mode": {
        "name": "ipython",
        "version": 3
      },
      "file_extension": ".py",
      "mimetype": "text/x-python",
      "name": "python",
      "nbconvert_exporter": "python",
      "pygments_lexer": "ipython3",
      "version": "3.12.3"
    },
    "colab": {
      "provenance": []
    }
  },
  "nbformat": 4,
  "nbformat_minor": 0
}